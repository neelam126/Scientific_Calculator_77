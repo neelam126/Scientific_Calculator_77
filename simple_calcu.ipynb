{
  "nbformat": 4,
  "nbformat_minor": 0,
  "metadata": {
    "colab": {
      "provenance": [],
      "authorship_tag": "ABX9TyMtes9tXF/Mm0e1P34ERbyk",
      "include_colab_link": true
    },
    "kernelspec": {
      "name": "python3",
      "display_name": "Python 3"
    },
    "language_info": {
      "name": "python"
    }
  },
  "cells": [
    {
      "cell_type": "markdown",
      "metadata": {
        "id": "view-in-github",
        "colab_type": "text"
      },
      "source": [
        "<a href=\"https://colab.research.google.com/github/neelam126/Scientific_Calculator_77/blob/main/simple_calcu.ipynb\" target=\"_parent\"><img src=\"https://colab.research.google.com/assets/colab-badge.svg\" alt=\"Open In Colab\"/></a>"
      ]
    },
    {
      "cell_type": "markdown",
      "source": [
        "**scientific calculator**"
      ],
      "metadata": {
        "id": "c5UNkHUjW8hY"
      }
    },
    {
      "cell_type": "code",
      "execution_count": null,
      "metadata": {
        "id": "-XN0rD3zB-lJ"
      },
      "outputs": [],
      "source": [
        "import math\n",
        "\n",
        "def scientific_calculator():\n",
        "    print(\"\\nWelcome to the Scientific Calculator!\")\n",
        "    print(\"Choose an operation:\")\n",
        "    print(\"1. Addition (+)\")\n",
        "    print(\"2. Subtraction (-)\")\n",
        "    print(\"3. Multiplication (*)\")\n",
        "    print(\"4. Division (/)\")\n",
        "    print(\"5. Exponentiation (^)\")\n",
        "    print(\"6. Square root\")\n",
        "    print(\"7. Trigonometric functions (sin, cos, tan)\")\n",
        "    print(\"8. Logarithm (log)\")\n",
        "    print(\"9. Factorial (!)\")  # New feature\n",
        "    print(\"10. Percentage (%)\") # New feature\n",
        "    print(\"11. Absolute Value (|)\") # New feature\n",
        "\n",
        "\n",
        "    choice = input(\"Enter the number corresponding to the operation: \")\n",
        "\n",
        "    if choice in ['1', '2', '3', '4', '5']:\n",
        "        num1 = float(input(\"Enter the first number: \"))\n",
        "        num2 = float(input(\"Enter the second number: \"))\n",
        "\n",
        "        if choice == '1':\n",
        "            print(f\"Result: {num1} + {num2} = {num1 + num2}\")\n",
        "        elif choice == '2':\n",
        "            print(f\"Result: {num1} - {num2} = {num1 - num2}\")\n",
        "        elif choice == '3':\n",
        "            print(f\"Result: {num1} * {num2} = {num1 * num2}\")\n",
        "        elif choice == '4':\n",
        "            if num2 != 0:\n",
        "                print(f\"Result: {num1} / {num2} = {num1 / num2}\")\n",
        "            else:\n",
        "                print(\"Error: Division by zero is not allowed.\")\n",
        "        elif choice == '5':\n",
        "            print(f\"Result: {num1} ^ {num2} = {num1 ** num2}\")\n",
        "\n",
        "    elif choice == '6':\n",
        "        num = float(input(\"Enter the number: \"))\n",
        "        if num >= 0:\n",
        "            print(f\"Result: sqrt({num}) = {math.sqrt(num)}\")\n",
        "        else:\n",
        "            print(\"Error: Square root of a negative number is not real.\")\n",
        "\n",
        "    elif choice == '7':\n",
        "        print(\"Choose a function:\")\n",
        "        print(\"a. Sine (sin)\")\n",
        "        print(\"b. Cosine (cos)\")\n",
        "        print(\"c. Tangent (tan)\")\n",
        "        trig_choice = input(\"Enter your choice: \")\n",
        "        angle = float(input(\"Enter the angle in degrees: \"))\n",
        "        radians = math.radians(angle)\n",
        "\n",
        "        if trig_choice == 'a':\n",
        "            print(f\"Result: sin({angle}) = {math.sin(radians)}\")\n",
        "        elif trig_choice == 'b':\n",
        "            print(f\"Result: cos({angle}) = {math.cos(radians)}\")\n",
        "        elif trig_choice == 'c':\n",
        "            print(f\"Result: tan({angle}) = {math.tan(radians)}\")\n",
        "        else:\n",
        "            print(\"Error: Invalid trigonometric function choice.\")\n",
        "\n",
        "    elif choice == '8':\n",
        "        num = float(input(\"Enter the number: \"))\n",
        "        if num > 0:\n",
        "            print(f\"Result: log({num}) = {math.log(num)}\")\n",
        "        else:\n",
        "            print(\"Error: Logarithm of non-positive numbers is not defined.\")\n",
        "\n",
        "    elif choice == '9':  # Factorial\n",
        "        num = int(input(\"Enter a non-negative integer: \"))\n",
        "        if num >= 0:\n",
        "            print(f\"Result: {num}! = {math.factorial(num)}\")\n",
        "        else:\n",
        "            print(\"Error: Factorial is not defined for negative numbers.\")\n",
        "\n",
        "    elif choice == '10':  # Percentage\n",
        "        num = float(input(\"Enter the number: \"))\n",
        "        print(f\"Result: {num}% = {num / 100}\")\n",
        "\n",
        "    elif choice == '11': # Absolute Value\n",
        "        num = float(input(\"Enter the number: \"))\n",
        "        print(f\"Result: |{num}| = {abs(num)}\")\n",
        "\n",
        "    else:\n",
        "        print(\"Error: Invalid choice.\")\n",
        "\n",
        "# Run the calculator\n",
        "scientific_calculator()"
      ]
    },
    {
      "cell_type": "markdown",
      "source": [],
      "metadata": {
        "id": "IL430Ej-Wvop"
      }
    },
    {
      "cell_type": "markdown",
      "source": [],
      "metadata": {
        "id": "TcLLmE1SWv7Q"
      }
    },
    {
      "cell_type": "markdown",
      "source": [
        "**scientific calculator**"
      ],
      "metadata": {
        "id": "ummaaaAtWwGx"
      }
    }
  ]
}